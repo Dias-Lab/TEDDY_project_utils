{
 "cells": [
  {
   "cell_type": "markdown",
   "id": "49e76513-2c7a-44f4-83d7-96c6daeeb69f",
   "metadata": {
    "tags": []
   },
   "source": [
    "# Parsing TEDDY's Sequence Read Archive (SRA) data from dbGaP\n",
    "\n",
    "We requested the \"microbiome data\" from dbGaP listed here: https://www.ncbi.nlm.nih.gov/projects/gap/cgi-bin/study.cgi?study_id=phs001442.v4.p3.\n",
    "Once the access was granted, we used the dbGaP authorized access to request the microbiome data.\n",
    "We received a big list of 92096 of SRA accession ids, each one refering to a sequencing run. We started downloading the data in small batches.\n",
    "\n",
    "### The problem\n",
    "\n",
    "- After downloading 10 batches of ~200 fastq files, I started processing the files, and I noticed that the data that we downloaded wasn't microbiome 16S amplicon, nor metagenome. It was blood transcriptomics!!! \n",
    "- I discovered that because fastqc pointed out weird issues, then I use pysradb to extract detailed metadata from a few randomly selected accession ids from our big list. Some of them were samples from blood, some of them were from stool, plasma, nasal, etc. So we needed a more systematic and automated way of spliting and organizing this mess!\n",
    "\n",
    "### The solution\n",
    "\n",
    "- By using pysradb I downloaded very detailed metadata on TEDDY's BioProject ids. So I loaded the SRA accession id metadata that I got from dbGaP authorized access via run selector (https://0-www-ncbi-nlm-nih-gov.brum.beds.ac.uk/Traces/study/) and I found out what are the BioProject ids assigned to TEDDY: ['PRJNA400115', 'PRJNA416160']. There are thousands of run ids (sample ids) associated to each project id, and pysradb downloads the detailed metadata for each one of them as well, which is nice.\n",
    "- After that, I used pysradb to retrieve very detailed metadata on all samples of both BioProject ids, especially:\n",
    "    - histological type: where the sample was collected from (stool, blood, plasma, nasal swab, etc.)\n",
    "    - library_source: type of sequencing library source (metagenomic, transcriptomic, genomic, etc.)\n",
    "    - library_strategy: type os sequencing library strategy (WGS, amplicon, other). \n",
    "    - experiment_title: the type of the experiment (gut metagenomics, gut 16S, gut virome, transcriptome, etc.)"
   ]
  },
  {
   "cell_type": "code",
   "execution_count": 1,
   "id": "b39d4b18-aa74-43f0-9e98-586e2d4c1be0",
   "metadata": {
    "tags": []
   },
   "outputs": [],
   "source": [
    "import pandas as pd"
   ]
  },
  {
   "cell_type": "code",
   "execution_count": 2,
   "id": "2a05e263-2e9c-486e-afca-909798cc7a54",
   "metadata": {
    "tags": []
   },
   "outputs": [
    {
     "data": {
      "text/plain": [
       "array(['PRJNA400115', 'PRJNA416160'], dtype=object)"
      ]
     },
     "execution_count": 2,
     "metadata": {},
     "output_type": "execute_result"
    }
   ],
   "source": [
    "#this txt file was aquired from the SRA run selector tool via dbGap authorized access\n",
    "teddy_metadata_path = \"/blue/raquel.dias/data/TEDDY/dbGaP/download/SraRunTable_fastq.txt\"\n",
    "teddy_sra_metadata = pd.read_csv(teddy_metadata_path, low_memory=False)\n",
    "#teddy_sra_metadata.columns\n",
    "teddy_sra_metadata['BioProject'].unique()"
   ]
  },
  {
   "cell_type": "code",
   "execution_count": 3,
   "id": "2f09d6da-00ca-43e9-ac59-20ea0fbcdc1e",
   "metadata": {
    "tags": []
   },
   "outputs": [],
   "source": [
    "#this will take almost one hour, skip this step and use the already downloaded file if you have it\n",
    "#!pysradb metadata --detailed PRJNA400115  --saveto PRJNA400115_teddy_pysradb_metadata.tsv\n",
    "#!pysradb metadata --detailed PRJNA416160  --saveto PRJNA416160_teddy_pysradb_metadata.tsv"
   ]
  },
  {
   "cell_type": "code",
   "execution_count": 4,
   "id": "ec4d3541-2c0f-42a4-afae-d547366dd66c",
   "metadata": {
    "tags": []
   },
   "outputs": [
    {
     "data": {
      "text/plain": [
       "Index(['run_accession', 'study_accession', 'study_title',\n",
       "       'experiment_accession', 'experiment_title', 'experiment_desc',\n",
       "       'organism_taxid', 'organism_name', 'library_name', 'library_strategy',\n",
       "       'library_source', 'library_selection', 'library_layout',\n",
       "       'sample_accession', 'sample_title', 'instrument', 'instrument_model',\n",
       "       'instrument_model_desc', 'total_spots', 'total_size', 'run_total_spots',\n",
       "       'run_total_bases', 'run_alias', 'experiment_alias', 'gap_accession',\n",
       "       'submitter handle', 'biospecimen repository', 'study name',\n",
       "       'study design', 'biospecimen repository sample id',\n",
       "       'submitted sample id', 'submitted subject id', 'gap_sample_id',\n",
       "       'gap_subject_id', 'sex', 'body site', 'histological type',\n",
       "       'analyte type', 'gap_consent_code', 'gap_consent_short_name',\n",
       "       'ena_fastq_http', 'ena_fastq_http_1', 'ena_fastq_http_2',\n",
       "       'ena_fastq_ftp', 'ena_fastq_ftp_1', 'ena_fastq_ftp_2'],\n",
       "      dtype='object')"
      ]
     },
     "execution_count": 4,
     "metadata": {},
     "output_type": "execute_result"
    }
   ],
   "source": [
    "PRJNA400115_metadata = pd.read_csv('PRJNA400115_teddy_pysradb_metadata.tsv', sep='\\t')\n",
    "PRJNA416160_metadata = pd.read_csv('PRJNA416160_teddy_pysradb_metadata.tsv', sep='\\t')\n",
    "PRJNA400115_metadata.columns"
   ]
  },
  {
   "cell_type": "code",
   "execution_count": 5,
   "id": "b18e1486-85d7-4520-b17b-0b716d55c0d3",
   "metadata": {
    "tags": []
   },
   "outputs": [
    {
     "data": {
      "text/plain": [
       "array(['Human gut primary virome sequencing: Sample M1000518',\n",
       "       'Human gut primary virome sequencing: Sample M1001368',\n",
       "       'Human gut primary virome sequencing: Sample M1003303', ...,\n",
       "       'Human WGS Aligned Sequence Data: Sample WGS_99642150_P1',\n",
       "       'Human WGS Aligned Sequence Data: Sample WGS_73666079_P1',\n",
       "       'Human WGS Aligned Sequence Data: Sample WGS_82388918_P1'],\n",
       "      dtype=object)"
      ]
     },
     "execution_count": 5,
     "metadata": {},
     "output_type": "execute_result"
    }
   ],
   "source": [
    "PRJNA416160_metadata['experiment_title'].unique()"
   ]
  },
  {
   "cell_type": "code",
   "execution_count": 6,
   "id": "538d0cc4-3d37-4788-91e1-27ab45ac34cd",
   "metadata": {
    "tags": []
   },
   "outputs": [],
   "source": [
    "#extract preffix of experiment title\n",
    "PRJNA400115_metadata['experiment_title'] = PRJNA400115_metadata['experiment_title'].str.replace(':.*','', regex=True)\n",
    "PRJNA416160_metadata['experiment_title'] = PRJNA416160_metadata['experiment_title'].str.replace(':.*','', regex=True)"
   ]
  },
  {
   "cell_type": "code",
   "execution_count": 7,
   "id": "1906f79a-03de-4dba-81af-a7759208bc76",
   "metadata": {
    "tags": []
   },
   "outputs": [
    {
     "data": {
      "text/plain": [
       "array(['Human gut primary virome sequencing',\n",
       "       'Human plasma primary virome sequencing',\n",
       "       'Human nasal primary virome sequencing',\n",
       "       'Human gut cultured virome sequencing',\n",
       "       'Human plasma cultured virome sequencing',\n",
       "       'Human nasal cultured virome sequencing',\n",
       "       'Human stool ITS2 sequencing', 'Human nasal ITS2 sequencing',\n",
       "       'Human nasal metagenomic WGS', 'Human stool deep metagenomic wgs',\n",
       "       'Human nasal 16S rRNA', 'Human Aligned RNA-Seq Data',\n",
       "       'Human WGS Aligned Sequence Data'], dtype=object)"
      ]
     },
     "execution_count": 7,
     "metadata": {},
     "output_type": "execute_result"
    }
   ],
   "source": [
    "PRJNA416160_metadata['experiment_title'].unique()"
   ]
  },
  {
   "cell_type": "code",
   "execution_count": 8,
   "id": "1a977495-f5fa-4466-90d9-decb09b987b8",
   "metadata": {
    "tags": []
   },
   "outputs": [],
   "source": [
    "#I used this function to dig trhough the data and understant its structure\n",
    "def show_unique_values(metadata):\n",
    "    unique_val_list = []\n",
    "    for column_name in metadata.columns:\n",
    "        unique_values = metadata[column_name].unique()\n",
    "        unique_val_count = len(unique_values)\n",
    "        if unique_val_count<10 and unique_val_count>1:\n",
    "            if column_name.startswith('ena_')==False and column_name!='sex':\n",
    "                print(column_name, list(unique_values))\n",
    "                print(metadata[column_name].value_counts())\n",
    "                print('\\n')"
   ]
  },
  {
   "cell_type": "code",
   "execution_count": 9,
   "id": "b341dc1d-c21c-475e-935f-0a7a938db585",
   "metadata": {
    "tags": []
   },
   "outputs": [],
   "source": [
    "#show_unique_values(PRJNA416160_metadata)\n",
    "#show_unique_values(PRJNA400115_metadata)"
   ]
  },
  {
   "cell_type": "code",
   "execution_count": 19,
   "id": "fec1f12c-7b31-4516-8395-8c46a1eea362",
   "metadata": {
    "tags": []
   },
   "outputs": [],
   "source": [
    "#Once I understood the data, I used this function to split the TEDDY accession ids\n",
    "def split_sra_bioproject_by_experiment(pysradb_metadata_df):\n",
    "    total_run_count = 0\n",
    "    for histological_type in pysradb_metadata_df['histological type'].unique():\n",
    "        histological_type_metadata = pysradb_metadata_df.loc[pysradb_metadata_df['histological type']==histological_type]\n",
    "        for library_source in histological_type_metadata['library_source'].unique():\n",
    "            library_source_metadata = histological_type_metadata.loc[histological_type_metadata['library_source']==library_source]\n",
    "            for library_strategy in library_source_metadata['library_strategy'].unique():\n",
    "                library_strategy_metadata = library_source_metadata.loc[library_source_metadata['library_strategy']==library_strategy]\n",
    "                data_type_list = [histological_type, library_source, library_strategy]\n",
    "                data_type_string = '__'.join(data_type_list).replace(' ','_')\n",
    "                print(data_type_string)\n",
    "                count_per_experiment = dict(library_strategy_metadata['experiment_title'].value_counts())\n",
    "                for key, value in count_per_experiment.items():\n",
    "                    total_run_count += value\n",
    "                    accession_list_name = data_type_string+'__'+key.replace(' ','_')\n",
    "                    #print(accession_list_name)\n",
    "                    experiment_metadata = library_strategy_metadata.loc[library_strategy_metadata['experiment_title']==key]\n",
    "                    experiment_metadata_accession_list = list(experiment_metadata['run_accession'])\n",
    "                    print(\"      \",key.replace(' ','_')+\"\\t\", value)\n",
    "                    outfile = open(accession_list_name+'.txt','w')\n",
    "                    outfile.write('\\n'.join(experiment_metadata_accession_list)+'\\n')\n",
    "                    outfile.close()\n",
    "                print(\"\")\n",
    "    print(\"total_run_count\\t\", total_run_count)"
   ]
  },
  {
   "cell_type": "code",
   "execution_count": 20,
   "id": "af792a37-b2fa-4f44-b1dc-bcd50dcf7f1a",
   "metadata": {
    "tags": []
   },
   "outputs": [
    {
     "name": "stdout",
     "output_type": "stream",
     "text": [
      "Stool__METAGENOMIC__WGS\n",
      "       Human_gut_metagenomics\t 13245\n",
      "\n",
      "Stool__GENOMIC__OTHER\n",
      "       Human_gut_16S_rRNA\t 13714\n",
      "\n",
      "total_run_count\t 26959\n"
     ]
    }
   ],
   "source": [
    "split_sra_bioproject_by_experiment(PRJNA400115_metadata)"
   ]
  },
  {
   "cell_type": "code",
   "execution_count": 21,
   "id": "202991bf-51fe-40cd-a997-fcdcf3014e52",
   "metadata": {
    "tags": []
   },
   "outputs": [
    {
     "name": "stdout",
     "output_type": "stream",
     "text": [
      "Stool__METAGENOMIC__WGS\n",
      "       Human_gut_cultured_virome_sequencing\t 12862\n",
      "       Human_gut_primary_virome_sequencing\t 12685\n",
      "       Human_stool_deep_metagenomic_wgs\t 1194\n",
      "\n",
      "Stool__METAGENOMIC__AMPLICON\n",
      "       Human_stool_ITS2_sequencing\t 12453\n",
      "\n",
      "Plasma__METAGENOMIC__WGS\n",
      "       Human_plasma_cultured_virome_sequencing\t 6220\n",
      "       Human_plasma_primary_virome_sequencing\t 5907\n",
      "\n",
      "Nasal_Swab__METAGENOMIC__WGS\n",
      "       Human_nasal_cultured_virome_sequencing\t 1728\n",
      "       Human_nasal_primary_virome_sequencing\t 1725\n",
      "       Human_nasal_metagenomic_WGS\t 1006\n",
      "\n",
      "Nasal_Swab__METAGENOMIC__AMPLICON\n",
      "       Human_nasal_16S_rRNA\t 1728\n",
      "       Human_nasal_ITS2_sequencing\t 1470\n",
      "\n",
      "Blood__TRANSCRIPTOMIC__RNA-Seq\n",
      "       Human_Aligned_RNA-Seq_Data\t 5034\n",
      "\n",
      "Blood__GENOMIC__WGS\n",
      "       Human_WGS_Aligned_Sequence_Data\t 1125\n",
      "\n",
      "total_run_count\t 65137\n"
     ]
    }
   ],
   "source": [
    "split_sra_bioproject_by_experiment(PRJNA416160_metadata)"
   ]
  },
  {
   "cell_type": "code",
   "execution_count": 13,
   "id": "4155d2ac-64f3-4814-981c-ae1c5c5f218d",
   "metadata": {},
   "outputs": [],
   "source": [
    "# 26959 + 65137 = 92096\n",
    "# Matches to the number found here: https://www.ncbi.nlm.nih.gov/sra/?term=teddy"
   ]
  }
 ],
 "metadata": {
  "kernelspec": {
   "display_name": "Microbiome",
   "language": "python",
   "name": "microbiome"
  },
  "language_info": {
   "codemirror_mode": {
    "name": "ipython",
    "version": 3
   },
   "file_extension": ".py",
   "mimetype": "text/x-python",
   "name": "python",
   "nbconvert_exporter": "python",
   "pygments_lexer": "ipython3",
   "version": "3.10.10"
  }
 },
 "nbformat": 4,
 "nbformat_minor": 5
}
